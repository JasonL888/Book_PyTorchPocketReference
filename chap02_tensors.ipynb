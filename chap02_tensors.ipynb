{
 "cells": [
  {
   "cell_type": "markdown",
   "id": "9c23696d",
   "metadata": {},
   "source": [
    "# Tensors"
   ]
  },
  {
   "cell_type": "code",
   "execution_count": 1,
   "id": "2d03f706",
   "metadata": {},
   "outputs": [],
   "source": [
    "import torch\n",
    "import numpy as np"
   ]
  },
  {
   "cell_type": "code",
   "execution_count": 2,
   "id": "15e883f9",
   "metadata": {},
   "outputs": [],
   "source": [
    "device = \"cuda\" if torch.cuda.is_available() else \"cpu\""
   ]
  },
  {
   "cell_type": "markdown",
   "id": "7e0dd56a",
   "metadata": {},
   "source": [
    "## What is a Tensor ?\n",
    "- In PyTorch, tensor is data structure used to store and manipulate data\n",
    "- similar to numpy array but also additional `torch.Tensor` attributes and operations\n",
    "- benefits over numpy\n",
    "    - tensor operations can be performed significantly faster using GPU accleration\n",
    "    - tensor can be stored and manipulated at scale using distributed processing on multiple CPU and GPUs across multiple servers\n",
    "    - tensors keep track of their graph computations, important in deep learning library"
   ]
  },
  {
   "cell_type": "markdown",
   "id": "271218a2",
   "metadata": {},
   "source": [
    "### Simple GPU example"
   ]
  },
  {
   "cell_type": "code",
   "execution_count": 3,
   "id": "78fc3569",
   "metadata": {},
   "outputs": [],
   "source": [
    "x = torch.tensor(\n",
    "    [[1,2,3],[4,5,6]], \n",
    "    device=device\n",
    "    )"
   ]
  },
  {
   "cell_type": "code",
   "execution_count": 4,
   "id": "05fc08d5",
   "metadata": {},
   "outputs": [
    {
     "data": {
      "text/plain": [
       "tensor([[1, 2, 3],\n",
       "        [4, 5, 6]])"
      ]
     },
     "execution_count": 4,
     "metadata": {},
     "output_type": "execute_result"
    }
   ],
   "source": [
    "x"
   ]
  },
  {
   "cell_type": "code",
   "execution_count": 5,
   "id": "c290961c",
   "metadata": {},
   "outputs": [],
   "source": [
    "y = torch.tensor(\n",
    "    [[7,8,9],[10,11,12]], \n",
    "    device=device)"
   ]
  },
  {
   "cell_type": "code",
   "execution_count": 6,
   "id": "954cf258",
   "metadata": {},
   "outputs": [],
   "source": [
    "z = x + y"
   ]
  },
  {
   "cell_type": "code",
   "execution_count": 7,
   "id": "3c7ba0d6",
   "metadata": {},
   "outputs": [
    {
     "data": {
      "text/plain": [
       "tensor([[ 8, 10, 12],\n",
       "        [14, 16, 18]])"
      ]
     },
     "execution_count": 7,
     "metadata": {},
     "output_type": "execute_result"
    }
   ],
   "source": [
    "z"
   ]
  },
  {
   "cell_type": "code",
   "execution_count": 8,
   "id": "bd3b7f77",
   "metadata": {},
   "outputs": [
    {
     "data": {
      "text/plain": [
       "device(type='cpu')"
      ]
     },
     "execution_count": 8,
     "metadata": {},
     "output_type": "execute_result"
    }
   ],
   "source": [
    "z.device"
   ]
  },
  {
   "cell_type": "markdown",
   "id": "95191350",
   "metadata": {},
   "source": [
    "also possible to move between CPUs and GPUs\n",
    "```\n",
    "x = x.to(device)\n",
    "y = y.to(device)\n",
    "z = x + y\n",
    "z = z.to(\"cpu\")\n",
    "```"
   ]
  },
  {
   "cell_type": "markdown",
   "id": "d1766ff1",
   "metadata": {},
   "source": [
    "## Creating Tensors"
   ]
  },
  {
   "cell_type": "code",
   "execution_count": 9,
   "id": "94345f64",
   "metadata": {},
   "outputs": [],
   "source": [
    "# Create from preexisting arrays\n",
    "w = torch.tensor([1,2,3])\n",
    "w = torch.tensor((1,2,3))\n",
    "w = torch.tensor(np.array([1,2,3]))"
   ]
  },
  {
   "cell_type": "code",
   "execution_count": 10,
   "id": "35a5dc70",
   "metadata": {},
   "outputs": [],
   "source": [
    "# Initalize by size\n",
    "w = torch.empty(100,200)\n",
    "w = torch.zeros(100,200)\n",
    "w = torch.ones(100,200)"
   ]
  },
  {
   "cell_type": "code",
   "execution_count": 11,
   "id": "a36b935a",
   "metadata": {},
   "outputs": [],
   "source": [
    "# initalized by size with random values\n",
    "w = torch.rand(100,200)\n",
    "w = torch.randn(100,200) # normal distribution\n",
    "w = torch.randint(5,10,(100,200))  # random integers between 5 and 10"
   ]
  },
  {
   "cell_type": "code",
   "execution_count": 12,
   "id": "90b90a54",
   "metadata": {},
   "outputs": [],
   "source": [
    "# initialized with specified data type or device\n",
    "w = torch.empty(100,200, dtype=torch.float32, device=device)"
   ]
  },
  {
   "cell_type": "markdown",
   "id": "cc14ddbf",
   "metadata": {},
   "source": [
    "## Tensor Attributes"
   ]
  },
  {
   "cell_type": "code",
   "execution_count": 13,
   "id": "d20ef5f5",
   "metadata": {},
   "outputs": [
    {
     "data": {
      "text/plain": [
       "torch.float32"
      ]
     },
     "execution_count": 13,
     "metadata": {},
     "output_type": "execute_result"
    }
   ],
   "source": [
    "w.dtype"
   ]
  },
  {
   "cell_type": "code",
   "execution_count": 14,
   "id": "c8a666cc",
   "metadata": {},
   "outputs": [
    {
     "data": {
      "text/plain": [
       "2"
      ]
     },
     "execution_count": 14,
     "metadata": {},
     "output_type": "execute_result"
    }
   ],
   "source": [
    "w.ndim"
   ]
  },
  {
   "cell_type": "code",
   "execution_count": 15,
   "id": "402f3b79",
   "metadata": {},
   "outputs": [
    {
     "data": {
      "text/plain": [
       "False"
      ]
     },
     "execution_count": 15,
     "metadata": {},
     "output_type": "execute_result"
    }
   ],
   "source": [
    "w.requires_grad"
   ]
  },
  {
   "cell_type": "code",
   "execution_count": 16,
   "id": "c64fa45b",
   "metadata": {},
   "outputs": [
    {
     "data": {
      "text/plain": [
       "torch.strided"
      ]
     },
     "execution_count": 16,
     "metadata": {},
     "output_type": "execute_result"
    }
   ],
   "source": [
    "x.layout"
   ]
  },
  {
   "cell_type": "markdown",
   "id": "71ca7a64",
   "metadata": {},
   "source": [
    "## Tensor Operations"
   ]
  },
  {
   "cell_type": "markdown",
   "id": "2f75627a",
   "metadata": {},
   "source": [
    "### Indexing, Slicing"
   ]
  },
  {
   "cell_type": "code",
   "execution_count": 18,
   "id": "1b38ff73",
   "metadata": {},
   "outputs": [],
   "source": [
    "x = torch.tensor([[1,2],[3,4],[5,6],[7,8]])"
   ]
  },
  {
   "cell_type": "code",
   "execution_count": 19,
   "id": "5d3e997d",
   "metadata": {},
   "outputs": [
    {
     "data": {
      "text/plain": [
       "torch.Size([4, 2])"
      ]
     },
     "execution_count": 19,
     "metadata": {},
     "output_type": "execute_result"
    }
   ],
   "source": [
    "x.shape"
   ]
  },
  {
   "cell_type": "code",
   "execution_count": 23,
   "id": "208dd67a",
   "metadata": {},
   "outputs": [
    {
     "data": {
      "text/plain": [
       "tensor(3)"
      ]
     },
     "execution_count": 23,
     "metadata": {},
     "output_type": "execute_result"
    }
   ],
   "source": [
    "# Row 1, column 0 (starts from 0)\n",
    "x[1,0]"
   ]
  },
  {
   "cell_type": "code",
   "execution_count": 22,
   "id": "fe314c6d",
   "metadata": {},
   "outputs": [
    {
     "data": {
      "text/plain": [
       "tensor(4)"
      ]
     },
     "execution_count": 22,
     "metadata": {},
     "output_type": "execute_result"
    }
   ],
   "source": [
    "x[1,1]"
   ]
  },
  {
   "cell_type": "code",
   "execution_count": 24,
   "id": "e2b66335",
   "metadata": {},
   "outputs": [
    {
     "data": {
      "text/plain": [
       "4"
      ]
     },
     "execution_count": 24,
     "metadata": {},
     "output_type": "execute_result"
    }
   ],
   "source": [
    "x[1,1].item()  # get as a standard Python number"
   ]
  },
  {
   "cell_type": "code",
   "execution_count": 25,
   "id": "43866b13",
   "metadata": {},
   "outputs": [
    {
     "data": {
      "text/plain": [
       "tensor([[1, 3, 5, 7],\n",
       "        [2, 4, 6, 8]])"
      ]
     },
     "execution_count": 25,
     "metadata": {},
     "output_type": "execute_result"
    }
   ],
   "source": [
    "x.t()"
   ]
  },
  {
   "cell_type": "code",
   "execution_count": 26,
   "id": "ac1c5406",
   "metadata": {},
   "outputs": [
    {
     "data": {
      "text/plain": [
       "tensor([[1, 2, 3, 4],\n",
       "        [5, 6, 7, 8]])"
      ]
     },
     "execution_count": 26,
     "metadata": {},
     "output_type": "execute_result"
    }
   ],
   "source": [
    "x.view(2,4)  # reshape to 2 rows, 4 columns"
   ]
  },
  {
   "cell_type": "code",
   "execution_count": 27,
   "id": "3e5e7884",
   "metadata": {},
   "outputs": [
    {
     "data": {
      "text/plain": [
       "tensor([[[1, 2],\n",
       "         [3, 4],\n",
       "         [5, 6],\n",
       "         [7, 8]],\n",
       "\n",
       "        [[1, 2],\n",
       "         [3, 4],\n",
       "         [5, 6],\n",
       "         [7, 8]]])"
      ]
     },
     "execution_count": 27,
     "metadata": {},
     "output_type": "execute_result"
    }
   ],
   "source": [
    "y = torch.stack((x,x))\n",
    "y"
   ]
  },
  {
   "cell_type": "code",
   "execution_count": 28,
   "id": "413f4999",
   "metadata": {},
   "outputs": [
    {
     "data": {
      "text/plain": [
       "torch.Size([2, 4, 2])"
      ]
     },
     "execution_count": 28,
     "metadata": {},
     "output_type": "execute_result"
    }
   ],
   "source": [
    "y.shape"
   ]
  },
  {
   "cell_type": "code",
   "execution_count": 29,
   "id": "d2cd2c12",
   "metadata": {},
   "outputs": [],
   "source": [
    "a,b = x.unbind(dim=1)"
   ]
  },
  {
   "cell_type": "code",
   "execution_count": 30,
   "id": "a97849b9",
   "metadata": {},
   "outputs": [
    {
     "data": {
      "text/plain": [
       "tensor([1, 3, 5, 7])"
      ]
     },
     "execution_count": 30,
     "metadata": {},
     "output_type": "execute_result"
    }
   ],
   "source": [
    "a"
   ]
  },
  {
   "cell_type": "code",
   "execution_count": 31,
   "id": "d41cfa36",
   "metadata": {},
   "outputs": [
    {
     "data": {
      "text/plain": [
       "tensor([2, 4, 6, 8])"
      ]
     },
     "execution_count": 31,
     "metadata": {},
     "output_type": "execute_result"
    }
   ],
   "source": [
    "b"
   ]
  },
  {
   "cell_type": "markdown",
   "id": "caf07896",
   "metadata": {},
   "source": [
    "### Tensor Operations for Mathematics"
   ]
  },
  {
   "cell_type": "markdown",
   "id": "0cd36ee7",
   "metadata": {},
   "source": [
    "### Automatic Differentiation (Autograd)\n",
    "- `backward()` function uses PyTorch automatic differentiation package `torch.autograd` to differentiate and compute gradients of tensor based on the chain rule"
   ]
  },
  {
   "cell_type": "code",
   "execution_count": 33,
   "id": "7238bf92",
   "metadata": {},
   "outputs": [],
   "source": [
    "x = torch.tensor(\n",
    "    [[1,2,3],[4,5,6]],\n",
    "    dtype=torch.float,\n",
    "    requires_grad=True\n",
    "    )"
   ]
  },
  {
   "cell_type": "code",
   "execution_count": 34,
   "id": "b59bde1f",
   "metadata": {},
   "outputs": [
    {
     "data": {
      "text/plain": [
       "tensor([[1., 2., 3.],\n",
       "        [4., 5., 6.]], requires_grad=True)"
      ]
     },
     "execution_count": 34,
     "metadata": {},
     "output_type": "execute_result"
    }
   ],
   "source": [
    "x"
   ]
  },
  {
   "cell_type": "markdown",
   "id": "07f4de41",
   "metadata": {},
   "source": [
    "$$\n",
    "f(x) = \\sum(x^2)\n",
    "$$"
   ]
  },
  {
   "cell_type": "code",
   "execution_count": 35,
   "id": "12f5eab3",
   "metadata": {},
   "outputs": [],
   "source": [
    "f = x.pow(2).sum()"
   ]
  },
  {
   "cell_type": "code",
   "execution_count": 36,
   "id": "dbe6c401",
   "metadata": {},
   "outputs": [
    {
     "data": {
      "text/plain": [
       "tensor(91., grad_fn=<SumBackward0>)"
      ]
     },
     "execution_count": 36,
     "metadata": {},
     "output_type": "execute_result"
    }
   ],
   "source": [
    "f"
   ]
  },
  {
   "cell_type": "markdown",
   "id": "9fefed67",
   "metadata": {},
   "source": [
    "$$\n",
    "\\frac{df(x)}{dx} = 2x\n",
    "$$"
   ]
  },
  {
   "cell_type": "code",
   "execution_count": 37,
   "id": "51f10f2d",
   "metadata": {},
   "outputs": [],
   "source": [
    "f.backward()"
   ]
  },
  {
   "cell_type": "code",
   "execution_count": 38,
   "id": "ccd7174e",
   "metadata": {},
   "outputs": [
    {
     "data": {
      "text/plain": [
       "tensor([[ 2.,  4.,  6.],\n",
       "        [ 8., 10., 12.]])"
      ]
     },
     "execution_count": 38,
     "metadata": {},
     "output_type": "execute_result"
    }
   ],
   "source": [
    "x.grad"
   ]
  }
 ],
 "metadata": {
  "kernelspec": {
   "display_name": "deeplearn",
   "language": "python",
   "name": "python3"
  },
  "language_info": {
   "codemirror_mode": {
    "name": "ipython",
    "version": 3
   },
   "file_extension": ".py",
   "mimetype": "text/x-python",
   "name": "python",
   "nbconvert_exporter": "python",
   "pygments_lexer": "ipython3",
   "version": "3.11.11"
  }
 },
 "nbformat": 4,
 "nbformat_minor": 5
}
