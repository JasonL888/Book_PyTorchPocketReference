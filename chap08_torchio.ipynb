{
 "cells": [
  {
   "cell_type": "markdown",
   "id": "f07ccbad",
   "metadata": {},
   "source": [
    "# PyTorch Ecosystem - TorchIO"
   ]
  },
  {
   "cell_type": "markdown",
   "id": "8cf9f31d",
   "metadata": {},
   "source": [
    "## References\n",
    "- [TorchIO: A Python library for efficient loading, preprocessing, augmentation and patch-based sampling of medical images in deep learning](https://www.sciencedirect.com/science/article/pii/S0169260721003102?via%3Dihub)\n",
    "- [TorchIO github](https://github.com/TorchIO-project/torchio)\n",
    "- [TorchIO Quickstart](https://docs.torchio.org/quickstart.html)\n",
    "- [Links to sample Colab Notebooks](https://github.com/TorchIO-project/torchio/blob/main/tutorials/README.md)"
   ]
  }
 ],
 "metadata": {
  "kernelspec": {
   "display_name": "deeplearn",
   "language": "python",
   "name": "python3"
  },
  "language_info": {
   "name": "python",
   "version": "3.11.11"
  }
 },
 "nbformat": 4,
 "nbformat_minor": 5
}
